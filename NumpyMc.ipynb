{
  "nbformat": 4,
  "nbformat_minor": 0,
  "metadata": {
    "colab": {
      "provenance": []
    },
    "kernelspec": {
      "name": "python3",
      "display_name": "Python 3"
    },
    "language_info": {
      "name": "python"
    }
  },
  "cells": [
    {
      "cell_type": "code",
      "execution_count": 2,
      "metadata": {
        "id": "O-dS5VlChi1T"
      },
      "outputs": [],
      "source": [
        "import numpy as np"
      ]
    },
    {
      "cell_type": "code",
      "source": [
        "# arange(): range starts from 0(default) to n-1"
      ],
      "metadata": {
        "id": "n5LTnpHQiGHO"
      },
      "execution_count": 3,
      "outputs": []
    },
    {
      "cell_type": "code",
      "source": [
        "arr1= np.arange(10)\n",
        "arr2=np.arange(4,10)\n",
        "print(arr2)"
      ],
      "metadata": {
        "id": "FvnNSrWliTmi",
        "colab": {
          "base_uri": "https://localhost:8080/"
        },
        "outputId": "46c9152d-7cb2-4fff-ceb4-20759e2a31fd"
      },
      "execution_count": 4,
      "outputs": [
        {
          "output_type": "stream",
          "name": "stdout",
          "text": [
            "[4 5 6 7 8 9]\n"
          ]
        }
      ]
    },
    {
      "cell_type": "code",
      "source": [
        "# arrays\n",
        "# 1-d array"
      ],
      "metadata": {
        "id": "NqUmOW89iilU"
      },
      "execution_count": 5,
      "outputs": []
    },
    {
      "cell_type": "code",
      "source": [
        "arr1d=np.array([1,2,3,4,5])\n",
        "print(arr1d)"
      ],
      "metadata": {
        "id": "VHixo13xjPWO",
        "colab": {
          "base_uri": "https://localhost:8080/"
        },
        "outputId": "3459df9c-5e11-41ec-a074-bb641d5a1b92"
      },
      "execution_count": 6,
      "outputs": [
        {
          "output_type": "stream",
          "name": "stdout",
          "text": [
            "[1 2 3 4 5]\n"
          ]
        }
      ]
    },
    {
      "cell_type": "code",
      "source": [
        "# accessing 1-d array"
      ],
      "metadata": {
        "id": "DTlmkcwGjVtc"
      },
      "execution_count": 7,
      "outputs": []
    },
    {
      "cell_type": "code",
      "source": [
        "print(arr1d[0])"
      ],
      "metadata": {
        "colab": {
          "base_uri": "https://localhost:8080/"
        },
        "id": "ic_ccPH8jZ73",
        "outputId": "3a6e1944-5f82-431a-e76f-7c63bbb0bc29"
      },
      "execution_count": 8,
      "outputs": [
        {
          "output_type": "stream",
          "name": "stdout",
          "text": [
            "1\n"
          ]
        }
      ]
    },
    {
      "cell_type": "code",
      "source": [
        "# for 2-d array: [[],[]]"
      ],
      "metadata": {
        "id": "HEpjJYUKqXp7"
      },
      "execution_count": 9,
      "outputs": []
    },
    {
      "cell_type": "code",
      "source": [
        "arr2d=np.array([[1,2,3],[2,3,4]])\n",
        "print(arr2d)"
      ],
      "metadata": {
        "id": "dz6ayBEgjcOR",
        "colab": {
          "base_uri": "https://localhost:8080/"
        },
        "outputId": "28da73e9-c113-40f6-9ca6-c65bfd981aa7"
      },
      "execution_count": 10,
      "outputs": [
        {
          "output_type": "stream",
          "name": "stdout",
          "text": [
            "[[1 2 3]\n",
            " [2 3 4]]\n"
          ]
        }
      ]
    },
    {
      "cell_type": "code",
      "source": [
        "# Properties of nd array"
      ],
      "metadata": {
        "id": "KS8_v3AEqGPN"
      },
      "execution_count": 11,
      "outputs": []
    },
    {
      "cell_type": "code",
      "source": [
        "# shape\n",
        "arr_2d=np.array([[1,2,3],[4,5,6]])\n",
        "arr_2d.shape"
      ],
      "metadata": {
        "colab": {
          "base_uri": "https://localhost:8080/"
        },
        "id": "0sazm2JOS9j7",
        "outputId": "324af0b2-69e1-4ae5-c003-126075f1e72e"
      },
      "execution_count": 12,
      "outputs": [
        {
          "output_type": "execute_result",
          "data": {
            "text/plain": [
              "(2, 3)"
            ]
          },
          "metadata": {},
          "execution_count": 12
        }
      ]
    },
    {
      "cell_type": "code",
      "source": [
        "# dtype and astype\n",
        "# arr_2d.dtype\n",
        "arr_2d=arr_2d.astype(np.float32)\n",
        "arr_2d.dtype"
      ],
      "metadata": {
        "colab": {
          "base_uri": "https://localhost:8080/"
        },
        "id": "f0icDNWwTL_M",
        "outputId": "b88f251e-f60a-4d6c-b629-8b92b251b765"
      },
      "execution_count": 13,
      "outputs": [
        {
          "output_type": "execute_result",
          "data": {
            "text/plain": [
              "dtype('float32')"
            ]
          },
          "metadata": {},
          "execution_count": 13
        }
      ]
    },
    {
      "cell_type": "code",
      "source": [
        "# create 3d array=3 rows and n columns\n",
        "arr_3d=np.zeros([2,3,4])\n",
        "arr_3d\n",
        "\n",
        "#size of array\n",
        "arr_3d.size\n",
        "\n",
        "#number of dimensions\n",
        "arr_3d.ndim"
      ],
      "metadata": {
        "id": "4YDvQI_lVDPm",
        "colab": {
          "base_uri": "https://localhost:8080/"
        },
        "outputId": "ce4f0136-4115-4004-8007-9d1b2dde21a1"
      },
      "execution_count": 19,
      "outputs": [
        {
          "output_type": "execute_result",
          "data": {
            "text/plain": [
              "3"
            ]
          },
          "metadata": {},
          "execution_count": 19
        }
      ]
    },
    {
      "cell_type": "code",
      "source": [
        "# create 4d array\n",
        "arr_4d=np.ones([2,3,4,4])\n",
        "arr_4d"
      ],
      "metadata": {
        "colab": {
          "base_uri": "https://localhost:8080/"
        },
        "id": "qHnFu0uyKBQY",
        "outputId": "3b16512e-92fc-4aca-e182-032b781fa00f"
      },
      "execution_count": 20,
      "outputs": [
        {
          "output_type": "execute_result",
          "data": {
            "text/plain": [
              "array([[[[1., 1., 1., 1.],\n",
              "         [1., 1., 1., 1.],\n",
              "         [1., 1., 1., 1.],\n",
              "         [1., 1., 1., 1.]],\n",
              "\n",
              "        [[1., 1., 1., 1.],\n",
              "         [1., 1., 1., 1.],\n",
              "         [1., 1., 1., 1.],\n",
              "         [1., 1., 1., 1.]],\n",
              "\n",
              "        [[1., 1., 1., 1.],\n",
              "         [1., 1., 1., 1.],\n",
              "         [1., 1., 1., 1.],\n",
              "         [1., 1., 1., 1.]]],\n",
              "\n",
              "\n",
              "       [[[1., 1., 1., 1.],\n",
              "         [1., 1., 1., 1.],\n",
              "         [1., 1., 1., 1.],\n",
              "         [1., 1., 1., 1.]],\n",
              "\n",
              "        [[1., 1., 1., 1.],\n",
              "         [1., 1., 1., 1.],\n",
              "         [1., 1., 1., 1.],\n",
              "         [1., 1., 1., 1.]],\n",
              "\n",
              "        [[1., 1., 1., 1.],\n",
              "         [1., 1., 1., 1.],\n",
              "         [1., 1., 1., 1.],\n",
              "         [1., 1., 1., 1.]]]])"
            ]
          },
          "metadata": {},
          "execution_count": 20
        }
      ]
    },
    {
      "cell_type": "markdown",
      "source": [
        "# **Arithmetic operators**\n",
        "**Addition**: np.add()\n",
        "\n",
        "**Subtraction**: np.subtract()\n",
        "\n",
        "**Multiplication**:np.multiply()\n",
        "\n",
        "**Division**:np.divide()\n",
        "\n",
        "**Modular Division**: np.mod()\n",
        "\n",
        "**Exponent/Power**:np.pow()"
      ],
      "metadata": {
        "id": "CPmZ9Kj_RkJF"
      }
    },
    {
      "cell_type": "markdown",
      "source": [
        "##**Relational Operators**\n",
        "**Equal** : ***==***\n",
        "\n",
        "**Not Equal**: ***!=***\n",
        "\n",
        "**Greater than**: ***>***\n",
        "\n",
        "**Greater than or Equal to**: ***>=***\n",
        "\n",
        "**Less than**: ***<***\n",
        "\n",
        "**Less than or Equal to**: ***<=***"
      ],
      "metadata": {
        "id": "0p46u7yzS51n"
      }
    },
    {
      "cell_type": "code",
      "source": [
        "# slice\n",
        "arr=np.array([0,1,2,3,4,5])\n",
        "print('sliced array : ',arr[1:4])\n",
        "print('sliced array with step: ',arr[0:4:2])"
      ],
      "metadata": {
        "colab": {
          "base_uri": "https://localhost:8080/"
        },
        "id": "FBzenw8eT13K",
        "outputId": "0635bfd7-ba6b-4394-f0c6-f4ae25a6a0eb"
      },
      "execution_count": 24,
      "outputs": [
        {
          "output_type": "stream",
          "name": "stdout",
          "text": [
            "sliced array :  [1 2 3]\n",
            "sliced array with step:  [0 2]\n"
          ]
        }
      ]
    },
    {
      "cell_type": "code",
      "source": [
        "# negative indexing\n",
        "arr=np.array([1,2,3,4,5])\n",
        "print('negative indexed value ',arr[-2])"
      ],
      "metadata": {
        "colab": {
          "base_uri": "https://localhost:8080/"
        },
        "id": "MTtCWyW3Zi29",
        "outputId": "dc0a89c2-2512-4c8e-ae71-8df28102dba4"
      },
      "execution_count": 25,
      "outputs": [
        {
          "output_type": "stream",
          "name": "stdout",
          "text": [
            "negative indexed value  4\n"
          ]
        }
      ]
    },
    {
      "cell_type": "code",
      "source": [
        "# masking\n",
        "arr=np.array([1,2,3,4])\n",
        "a=arr>3\n",
        "arr[a]"
      ],
      "metadata": {
        "colab": {
          "base_uri": "https://localhost:8080/"
        },
        "id": "OGQ6ZlTRab4S",
        "outputId": "04600508-7123-42ae-afa7-9ac7e64e9495"
      },
      "execution_count": 31,
      "outputs": [
        {
          "output_type": "execute_result",
          "data": {
            "text/plain": [
              "array([4])"
            ]
          },
          "metadata": {},
          "execution_count": 31
        }
      ]
    },
    {
      "cell_type": "code",
      "source": [
        "# fancy indices\n",
        "arr=np.array([1,2,3,4,5])\n",
        "fancy=[0,1,2]\n",
        "selected=arr[fancy]\n",
        "selected"
      ],
      "metadata": {
        "colab": {
          "base_uri": "https://localhost:8080/"
        },
        "id": "awWI-jhwbh1w",
        "outputId": "57c06973-c658-4a70-e30f-df1fa8b2fb59"
      },
      "execution_count": 32,
      "outputs": [
        {
          "output_type": "execute_result",
          "data": {
            "text/plain": [
              "array([1, 2, 3])"
            ]
          },
          "metadata": {},
          "execution_count": 32
        }
      ]
    },
    {
      "cell_type": "code",
      "source": [
        "# transpose\n",
        "arr2d=np.array([[1,2,3],[4,5,6]])\n",
        "arr2d.shape\n",
        "transpose=arr2d.T\n",
        "transpose.shape"
      ],
      "metadata": {
        "colab": {
          "base_uri": "https://localhost:8080/"
        },
        "id": "x0XlMYpngdyP",
        "outputId": "938be145-5c74-4c3d-9d52-5ec2ef8b119e"
      },
      "execution_count": 36,
      "outputs": [
        {
          "output_type": "execute_result",
          "data": {
            "text/plain": [
              "(3, 2)"
            ]
          },
          "metadata": {},
          "execution_count": 36
        }
      ]
    },
    {
      "cell_type": "code",
      "source": [
        "# random number generation\n",
        "# size represents count\n",
        "rand=np.random.randint(1,10,size=4)\n",
        "rand\n",
        "\n",
        "#create a 2d array using random\n",
        "rand2d=np.random.randint(1,10,size=(2,3))\n",
        "rand2d"
      ],
      "metadata": {
        "colab": {
          "base_uri": "https://localhost:8080/"
        },
        "id": "UpZX1D7bg1Kv",
        "outputId": "f3e9ed66-c521-49d4-820b-8bedc32d337d"
      },
      "execution_count": 41,
      "outputs": [
        {
          "output_type": "execute_result",
          "data": {
            "text/plain": [
              "array([[2, 4, 7],\n",
              "       [1, 6, 4]])"
            ]
          },
          "metadata": {},
          "execution_count": 41
        }
      ]
    },
    {
      "cell_type": "markdown",
      "source": [
        "# **Operations** on 2d array:\n",
        "**Matrix multiplication**: np.**matmul**()\n",
        "\n",
        "**Reshape**: np.**reshape**()\n",
        "\n",
        "Resize: np.**resize**()\n",
        "\n",
        "Split: np.**split**()"
      ],
      "metadata": {
        "id": "aM5_90kZjHBt"
      }
    },
    {
      "cell_type": "code",
      "source": [
        "# matrix multiplication\n",
        "\n",
        "mat_a=np.array([[1,2],[3,4]])\n",
        "mat_b=np.array([[4,5],[6,7]])\n",
        "result=np.matmul(mat_a,mat_b)\n",
        "result"
      ],
      "metadata": {
        "colab": {
          "base_uri": "https://localhost:8080/"
        },
        "id": "vcmt8xtXiiLm",
        "outputId": "1c044980-49f0-4e8a-a0f3-48c2f06f8b0c"
      },
      "execution_count": 42,
      "outputs": [
        {
          "output_type": "execute_result",
          "data": {
            "text/plain": [
              "array([[16, 19],\n",
              "       [36, 43]])"
            ]
          },
          "metadata": {},
          "execution_count": 42
        }
      ]
    },
    {
      "cell_type": "code",
      "source": [
        "# reshape 2d array\n",
        "\n",
        "arr=np.arange(10)\n",
        "reshape=arr.reshape(2,5)\n",
        "reshape"
      ],
      "metadata": {
        "colab": {
          "base_uri": "https://localhost:8080/"
        },
        "id": "Ow18T7ARk4Fl",
        "outputId": "910a8c57-3681-478e-d1b4-eea1f528732d"
      },
      "execution_count": 46,
      "outputs": [
        {
          "output_type": "execute_result",
          "data": {
            "text/plain": [
              "array([[0, 1, 2, 3, 4],\n",
              "       [5, 6, 7, 8, 9]])"
            ]
          },
          "metadata": {},
          "execution_count": 46
        }
      ]
    },
    {
      "cell_type": "code",
      "source": [
        "# resize\n",
        "\n",
        "arr=np.arange(10)\n",
        "arr.resize(2,7)\n",
        "arr"
      ],
      "metadata": {
        "colab": {
          "base_uri": "https://localhost:8080/"
        },
        "id": "gSn5vYVhmnzt",
        "outputId": "c132f159-63c6-4745-8867-885fad107dd6"
      },
      "execution_count": 57,
      "outputs": [
        {
          "output_type": "execute_result",
          "data": {
            "text/plain": [
              "array([[0, 1, 2, 3, 4, 5, 6],\n",
              "       [7, 8, 9, 0, 0, 0, 0]])"
            ]
          },
          "metadata": {},
          "execution_count": 57
        }
      ]
    },
    {
      "cell_type": "code",
      "source": [
        "#split\n",
        "\n",
        "arr=np.arange(10)\n",
        "# split_arr=np.split(arr,3)\n",
        "# split_arr\n",
        "\n",
        "#np.array_split\n",
        "arr=np.array_split(arr,4)\n",
        "arr"
      ],
      "metadata": {
        "colab": {
          "base_uri": "https://localhost:8080/"
        },
        "id": "9mhbAywrtkm_",
        "outputId": "6b479b05-bc72-4682-819e-b44bdf7b8614"
      },
      "execution_count": 62,
      "outputs": [
        {
          "output_type": "execute_result",
          "data": {
            "text/plain": [
              "[array([0, 1, 2]), array([3, 4, 5]), array([6, 7]), array([8, 9])]"
            ]
          },
          "metadata": {},
          "execution_count": 62
        }
      ]
    },
    {
      "cell_type": "markdown",
      "source": [
        "# **Aggregate** Functions:\n",
        "**sum** of elements in matrix: **np.sum()**\n",
        "\n",
        "**max** of elements in matrix: **np.max()**\n",
        "\n",
        "**min** of elements in matrix: **np.min()**\n",
        "\n",
        "**mean** of elements in matrix: **np.mean()**"
      ],
      "metadata": {
        "id": "3MnWJjDVllko"
      }
    },
    {
      "cell_type": "code",
      "source": [],
      "metadata": {
        "id": "N4X72KYrlK7Y"
      },
      "execution_count": null,
      "outputs": []
    }
  ]
}